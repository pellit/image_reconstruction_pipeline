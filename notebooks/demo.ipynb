{
 "cells": [
  {
   "cell_type": "markdown",
   "id": "0e5e1b3a",
   "metadata": {},
   "source": [
    "# 🔬 Image Reconstruction Demo\n",
    "This notebook demonstrates the FFT × Fractal × Phase pipeline."
   ]
  },
  {
   "cell_type": "code",
   "execution_count": null,
   "id": "c02834d2",
   "metadata": {},
   "outputs": [],
   "source": [
    "\n",
    "%pip install -q -r ../requirements.txt\n",
    "import cv2, matplotlib.pyplot as plt\n",
    "from src.pipeline import reconstruct_image\n",
    "import numpy as np, os\n",
    "\n",
    "# Load your own image or use a sample\n",
    "path = os.path.join('..', 'examples', 'sample.png')\n",
    "if not os.path.exists(path):\n",
    "    # synthesize a simple sample\n",
    "    import urllib.request, tempfile\n",
    "    url = 'https://upload.wikimedia.org/wikipedia/commons/thumb/2/24/Wolf-Canis_lupus.jpg/256px-Wolf-Canis_lupus.jpg'\n",
    "    urllib.request.urlretrieve(url, path)\n",
    "img = cv2.imread(path, cv2.IMREAD_GRAYSCALE).astype(np.float32)/255\n",
    "\n",
    "rec, psnr, ssim = reconstruct_image(img, k_c=0.15, D_f=1.8)\n",
    "print(f'PSNR: {psnr:.2f} dB | SSIM: {ssim:.4f}')\n",
    "\n",
    "plt.figure(figsize=(10,4))\n",
    "plt.subplot(1,2,1); plt.imshow(img, cmap='gray'); plt.title('Original'); plt.axis('off')\n",
    "plt.subplot(1,2,2); plt.imshow(rec, cmap='gray'); plt.title('Reconstructed'); plt.axis('off')\n",
    "plt.show()\n"
   ]
  }
 ],
 "metadata": {},
 "nbformat": 4,
 "nbformat_minor": 5
}
