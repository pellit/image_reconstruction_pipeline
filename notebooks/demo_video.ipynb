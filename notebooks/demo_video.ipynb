{
 "cells": [
  {
   "cell_type": "markdown",
   "id": "0e5e1b3a",
   "metadata": {},
   "source": [
    "# 🔬 Image Reconstruction Demo\n",
    "This notebook demonstrates the FFT × Fractal × Phase pipeline."
   ]
  },
  {
   "cell_type": "code",
   "execution_count": null,
   "id": "b438f272",
   "metadata": {},
   "outputs": [],
   "source": [
    "!pip install numpy>=1.24 opencv-python scipy scikit-image matplotlib nbformat"
   ]
  },
  {
   "cell_type": "code",
   "execution_count": null,
   "id": "c02834d2",
   "metadata": {},
   "outputs": [],
   "source": [
    "import sys, os\n",
    "sys.path.append(os.path.abspath('..'))\n",
    "import cv2\n",
    "import numpy as np\n",
    "from src.pipeline import reconstruct_video\n",
    "\n",
    "path = os.path.join('..', 'examples', 'road_traffic_video.mp4')\n",
    "cap = cv2.VideoCapture(path)\n",
    "# Procesar y reconstruir frame a frame\n",
    "psnr_list, ssim_list = [], []\n",
    "while True:\n",
    "    ret, f = cap.read()\n",
    "    if not ret:\n",
    "        break\n",
    "    gray = cv2.cvtColor(f, cv2.COLOR_BGR2GRAY) / 255\n",
    "    # reconstruir el frame individualmente\n",
    "    rec, psnr, ssim = reconstruct_video(\n",
    "        np.expand_dims(gray, 0))  # ajusta según tu función\n",
    "    psnr_list.append(psnr)\n",
    "    ssim_list.append(ssim)\n",
    "\n",
    "cap.release()\n",
    "print('PSNR promedio:', np.mean(psnr_list),\n",
    "      '| SSIM promedio:', np.mean(ssim_list))"
   ]
  }
 ],
 "metadata": {
  "kernelspec": {
   "display_name": "fractal_pipeline",
   "language": "python",
   "name": "python3"
  },
  "language_info": {
   "codemirror_mode": {
    "name": "ipython",
    "version": 3
   },
   "file_extension": ".py",
   "mimetype": "text/x-python",
   "name": "python",
   "nbconvert_exporter": "python",
   "pygments_lexer": "ipython3",
   "version": "3.12.3"
  }
 },
 "nbformat": 4,
 "nbformat_minor": 5
}
