{
 "cells": [
  {
   "cell_type": "markdown",
   "id": "b36a8e3f",
   "metadata": {},
   "source": [
    "# 📊 Benchmark: Parameter sweep on DIV2K subset"
   ]
  },
  {
   "cell_type": "code",
   "execution_count": null,
   "id": "4899c2af",
   "metadata": {},
   "outputs": [],
   "source": [
    "!pip install numpy>=1.24 opencv-python scipy scikit-image matplotlib nbformat"
   ]
  },
  {
   "cell_type": "code",
   "execution_count": 3,
   "id": "29406a20",
   "metadata": {},
   "outputs": [
    {
     "name": "stdout",
     "output_type": "stream",
     "text": [
      "Note: you may need to restart the kernel to use updated packages.\n"
     ]
    }
   ],
   "source": [
    "%pip install -q datasets super-image"
   ]
  },
  {
   "cell_type": "code",
   "execution_count": 4,
   "id": "5a654f5a",
   "metadata": {},
   "outputs": [
    {
     "name": "stderr",
     "output_type": "stream",
     "text": [
      "c:\\Users\\WPEDEV001\\Desktop\\Investigacion_1\\image_reconstruction_pipeline\\fractal_pipeline\\Lib\\site-packages\\tqdm\\auto.py:21: TqdmWarning: IProgress not found. Please update jupyter and ipywidgets. See https://ipywidgets.readthedocs.io/en/stable/user_install.html\n",
      "  from .autonotebook import tqdm as notebook_tqdm\n"
     ]
    },
    {
     "ename": "ModuleNotFoundError",
     "evalue": "No module named 'src'",
     "output_type": "error",
     "traceback": [
      "\u001b[31m---------------------------------------------------------------------------\u001b[39m",
      "\u001b[31mModuleNotFoundError\u001b[39m                       Traceback (most recent call last)",
      "\u001b[36mCell\u001b[39m\u001b[36m \u001b[39m\u001b[32mIn[4]\u001b[39m\u001b[32m, line 4\u001b[39m\n\u001b[32m      2\u001b[39m \u001b[38;5;28;01mimport\u001b[39;00m\u001b[38;5;250m \u001b[39m\u001b[34;01mnumpy\u001b[39;00m\u001b[38;5;250m \u001b[39m\u001b[38;5;28;01mas\u001b[39;00m\u001b[38;5;250m \u001b[39m\u001b[34;01mnp\u001b[39;00m,\u001b[38;5;250m \u001b[39m\u001b[34;01mmatplotlib\u001b[39;00m\u001b[34;01m.\u001b[39;00m\u001b[34;01mpyplot\u001b[39;00m\u001b[38;5;250m \u001b[39m\u001b[38;5;28;01mas\u001b[39;00m\u001b[38;5;250m \u001b[39m\u001b[34;01mplt\u001b[39;00m\n\u001b[32m      3\u001b[39m \u001b[38;5;28;01mimport\u001b[39;00m\u001b[38;5;250m \u001b[39m\u001b[34;01mcv2\u001b[39;00m,\u001b[38;5;250m \u001b[39m\u001b[34;01mos\u001b[39;00m\n\u001b[32m----> \u001b[39m\u001b[32m4\u001b[39m \u001b[38;5;28;01mfrom\u001b[39;00m\u001b[38;5;250m \u001b[39m\u001b[34;01msrc\u001b[39;00m\u001b[34;01m.\u001b[39;00m\u001b[34;01mpipeline\u001b[39;00m\u001b[38;5;250m \u001b[39m\u001b[38;5;28;01mimport\u001b[39;00m reconstruct_image\n\u001b[32m      5\u001b[39m \u001b[38;5;28;01mfrom\u001b[39;00m\u001b[38;5;250m \u001b[39m\u001b[34;01mtqdm\u001b[39;00m\u001b[38;5;250m \u001b[39m\u001b[38;5;28;01mimport\u001b[39;00m tqdm\n\u001b[32m      7\u001b[39m \u001b[38;5;66;03m# Cargar el dataset DIV2K (validación, bicubic x2)\u001b[39;00m\n",
      "\u001b[31mModuleNotFoundError\u001b[39m: No module named 'src'"
     ]
    }
   ],
   "source": [
    "from datasets import load_dataset\n",
    "import numpy as np, matplotlib.pyplot as plt\n",
    "import cv2, os\n",
    "from src.pipeline import reconstruct_image\n",
    "from tqdm import tqdm\n",
    "\n",
    "# Cargar el dataset DIV2K (validación, bicubic x2)\n",
    "dataset = load_dataset('eugenesiow/Div2k', 'bicubic_x2', split='validation')\n",
    "\n",
    "params_kc = [0.1, 0.15, 0.2]\n",
    "params_df = [1.6, 1.8, 1.9]\n",
    "\n",
    "results = []\n",
    "\n",
    "# Procesar solo las primeras 5 imágenes para ejemplo\n",
    "for i, sample in enumerate(tqdm(dataset.select(range(5)))):\n",
    "    # Obtener la imagen HR (alta resolución) como numpy array\n",
    "    img = np.array(sample['hr'])\n",
    "    if img.ndim == 3:\n",
    "        img = cv2.cvtColor(img, cv2.COLOR_RGB2GRAY)\n",
    "    img = img.astype(np.float32)/255\n",
    "    for k in params_kc:\n",
    "        for d in params_df:\n",
    "            rec, psnr, ssim = reconstruct_image(img, k_c=k, D_f=d)\n",
    "            results.append((sample['image'], k, d, psnr, ssim))\n",
    "\n",
    "import pandas as pd\n",
    "df = pd.DataFrame(results, columns=['img','k_c','D_f','PSNR','SSIM'])\n",
    "display(df.pivot_table(index=['k_c','D_f'], values=['PSNR','SSIM'], aggfunc='mean'))"
   ]
  }
 ],
 "metadata": {
  "kernelspec": {
   "display_name": "fractal_pipeline",
   "language": "python",
   "name": "python3"
  },
  "language_info": {
   "codemirror_mode": {
    "name": "ipython",
    "version": 3
   },
   "file_extension": ".py",
   "mimetype": "text/x-python",
   "name": "python",
   "nbconvert_exporter": "python",
   "pygments_lexer": "ipython3",
   "version": "3.12.3"
  }
 },
 "nbformat": 4,
 "nbformat_minor": 5
}
